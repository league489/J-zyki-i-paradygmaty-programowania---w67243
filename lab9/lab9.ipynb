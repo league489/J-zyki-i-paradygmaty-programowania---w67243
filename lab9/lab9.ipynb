{
  "cells": [
    {
      "cell_type": "code",
      "execution_count": null,
      "metadata": {
        "colab": {
          "base_uri": "https://localhost:8080/"
        },
        "id": "64puFxw9yasr",
        "outputId": "0ea3a31a-c02d-4d39-ccfd-7125cf7e4b1a"
      },
      "outputs": [
        {
          "name": "stdout",
          "output_type": "stream",
          "text": [
            "Podaj liczby które chcesz zsumować , oddzielone przecinkami:20,30,40\n",
            "90\n"
          ]
        }
      ],
      "source": [
        "from functools import reduce\n",
        "liczby = input(\"Podaj liczby które chcesz zsumować , oddzielone przecinkami:\")\n",
        "liczby = liczby.split(\",\")\n",
        "liczby = map(lambda x: int(x),liczby)\n",
        "suma = reduce(lambda x,y: x+y,liczby)\n",
        "print(suma)\n"
      ]
    },
    {
      "cell_type": "code",
      "execution_count": null,
      "metadata": {
        "colab": {
          "base_uri": "https://localhost:8080/"
        },
        "id": "w59zM30H0AZ5",
        "outputId": "c8ca6cc1-5ac2-4cef-c136-df170162bd33"
      },
      "outputs": [
        {
          "name": "stdout",
          "output_type": "stream",
          "text": [
            "Podaj działanie do wykonania:2+4+6+8+10+12+14+16+18+20\n",
            "110\n",
            "Kontynuować? y/n: n\n"
          ]
        }
      ],
      "source": [
        "opcja = \"\"\n",
        "while(opcja !=\"n\"):\n",
        "  działanie = input(\"Podaj działanie do wykonania:\")\n",
        "  wynik = print(eval(działanie))\n",
        "  opcja = input(\"Kontynuować? y/n: \")"
      ]
    },
    {
      "cell_type": "code",
      "execution_count": null,
      "metadata": {
        "id": "WBFzux3Z29-U",
        "colab": {
          "base_uri": "https://localhost:8080/"
        },
        "outputId": "25ddf1a0-fa90-471a-cb17-9d47bf83763d"
      },
      "outputs": [
        {
          "output_type": "stream",
          "name": "stdout",
          "text": [
            "Dwa rozwiązania: -2.618033988749895 -0.3819660112501051\n"
          ]
        }
      ],
      "source": [
        "def FunkcjaKwadratowa(a,b,c):\n",
        "  delta = b**2 - 4*a*c\n",
        "  if delta < 0:\n",
        "    print(\"Brak rozwiązań\")\n",
        "  elif delta == 0:\n",
        "    x = -b/(2*a)\n",
        "    print(\"Jedna rozwiązanie:\",x)\n",
        "  else:\n",
        "    x1 = (-b - delta**0.5)/(2*a)\n",
        "    x2 = (-b + delta**0.5)/(2*a)\n",
        "    print(\"Dwa rozwiązania:\",x1,x2)\n",
        "\n",
        "FunkcjaKwadratowa(2,6,2)"
      ]
    },
    {
      "cell_type": "code",
      "execution_count": null,
      "metadata": {
        "colab": {
          "base_uri": "https://localhost:8080/"
        },
        "id": "E5pWx2nz4G_B",
        "outputId": "c08cced5-7c56-4769-f353-983b31ed90ba"
      },
      "outputs": [
        {
          "name": "stdout",
          "output_type": "stream",
          "text": [
            "8\n",
            "12\n"
          ]
        }
      ],
      "source": [
        "class Prostokat:\n",
        "    def __init__(self,dlugosc,szerokosc):\n",
        "        self.dlugosc = dlugosc\n",
        "        self.szerokosc = szerokosc\n",
        "    def pole(self):\n",
        "        return self.dlugosc * self.szerokosc\n",
        "    def obwod(self):\n",
        "        return (2*self.dlugosc) + (2*self.szerokosc)\n",
        "\n",
        "prost1= Prostokat(2,4)\n",
        "print(prost1.pole())\n",
        "print(prost1.obwod())"
      ]
    },
    {
      "cell_type": "code",
      "execution_count": null,
      "metadata": {
        "id": "LW3sSjDu4HQt"
      },
      "outputs": [],
      "source": [
        "class Pojazd:\n",
        "  def __init__(self, marka, model, rok_produkcji):\n",
        "    self.marka = marka\n",
        "    self.model = model\n",
        "    self.rok_produkcji = rok_produkcji\n",
        "\n",
        "def informacje(self):\n",
        "  return f\"Pojazd: {self.marka} {self.model}, rok produkcji: {self.rok_produkcji}\"\n",
        "\n",
        "class Samochod(Pojazd):\n",
        "  def __init__(self, marka, model, rok_produkcji, przebieg=0):\n",
        "    super().__init__(marka, model, rok_produkcji) #używa konstruktora klasy Pojazd\n",
        "    self.przebieg = przebieg\n",
        "\n",
        "def jazda(self, dystans): #implementacja metody 'jazda', przyjmuje dystans i dodaje go do przebiegu auta\n",
        "  if dystans > 0:\n",
        "    self.przebieg += dystans\n",
        "    print(f\"Samochód przejechał {dystans} km.\")\n",
        "  else:\n",
        "    print(\"Dystans musi być większy od zera.\")"
      ]
    },
    {
      "cell_type": "code",
      "execution_count": null,
      "metadata": {
        "colab": {
          "base_uri": "https://localhost:8080/"
        },
        "id": "5CpFyq7953ZU",
        "outputId": "ebffd47b-d43e-41d7-a500-f09510fbe6d6"
      },
      "outputs": [
        {
          "name": "stdout",
          "output_type": "stream",
          "text": [
            "110\n"
          ]
        }
      ],
      "source": [
        "lista = [1,2,3,4,5,6,7,8,9,10,20,19,18,17,16,15,14,13,12,11]\n",
        "lista = list(filter(lambda x: x%2==0,lista))\n",
        "lista = reduce(lambda x,y: x+y,lista)\n",
        "print(lista)"
      ]
    },
    {
      "cell_type": "code",
      "execution_count": null,
      "metadata": {
        "colab": {
          "base_uri": "https://localhost:8080/"
        },
        "id": "iHOeI8fo6yT-",
        "outputId": "c2edbd33-dcda-4dd1-9883-5bcbf62b9cc2"
      },
      "outputs": [
        {
          "output_type": "stream",
          "name": "stdout",
          "text": [
            "3\n"
          ]
        }
      ],
      "source": [
        "def fibonacci(n):\n",
        "  if n == 0:\n",
        "    return 0\n",
        "  elif n == 1:\n",
        "    return 1\n",
        "  else:\n",
        "    return fibonacci(n-1) + fibonacci(n-2)\n",
        "\n",
        "print(fibonacci(4))"
      ]
    },
    {
      "cell_type": "code",
      "source": [
        "def permutacje(lista):\n",
        "\n",
        "    if len(lista) == 0:\n",
        "        return [[]]\n",
        "\n",
        "\n",
        "    wyniki = []\n",
        "\n",
        "    for i in range(len(lista)):\n",
        "\n",
        "        element = lista[i]\n",
        "\n",
        "\n",
        "        pozostalosc = lista[:i] + lista[i+1:]\n",
        "\n",
        "        for p in permutacje(pozostalosc):\n",
        "            wyniki.append([element] + p)\n",
        "\n",
        "    return wyniki\n",
        "\n",
        "\n",
        "lista = [1, 2, 3]\n",
        "wyniki = permutacje(lista)\n",
        "for permutacja in wyniki:\n",
        "    print(permutacja)\n"
      ],
      "metadata": {
        "colab": {
          "base_uri": "https://localhost:8080/"
        },
        "id": "CN4fLlTMP1dX",
        "outputId": "06584ec8-eb22-4c13-b3de-8d37b8374ddb"
      },
      "execution_count": null,
      "outputs": [
        {
          "output_type": "stream",
          "name": "stdout",
          "text": [
            "[1, 2, 3]\n",
            "[1, 3, 2]\n",
            "[2, 1, 3]\n",
            "[2, 3, 1]\n",
            "[3, 1, 2]\n",
            "[3, 2, 1]\n"
          ]
        }
      ]
    },
    {
      "cell_type": "code",
      "source": [
        "import pandas as pd\n",
        "\n",
        "df = pd.read_csv(\"data.csv\")\n",
        "pd.options.display.max_rows = 9999\n",
        "def średniadlakolumn(df,colname):\n",
        "  średnia = df[colname].mean()\n",
        "  return średnia\n",
        "\n",
        "print(średniadlakolumn(df,\"Calories\"))\n"
      ],
      "metadata": {
        "colab": {
          "base_uri": "https://localhost:8080/"
        },
        "id": "Yi_WefZx9xC3",
        "outputId": "1efc8c37-1ee4-48f7-f6e8-a72455fe30cb"
      },
      "execution_count": null,
      "outputs": [
        {
          "output_type": "stream",
          "name": "stdout",
          "text": [
            "375.79024390243904\n"
          ]
        }
      ]
    },
    {
      "cell_type": "code",
      "source": [
        "def CzyPalindrom(lista):\n",
        "  lista_r = lista[::-1]\n",
        "  if lista == lista_r:\n",
        "    return True\n",
        "  else:\n",
        "    return False\n",
        "\n",
        "print(CzyPalindrom([1,2]))"
      ],
      "metadata": {
        "colab": {
          "base_uri": "https://localhost:8080/"
        },
        "id": "MghLBMgjCvro",
        "outputId": "5423e774-7667-46a9-f59a-cbd755569347"
      },
      "execution_count": null,
      "outputs": [
        {
          "output_type": "stream",
          "name": "stdout",
          "text": [
            "False\n"
          ]
        }
      ]
    }
  ],
  "metadata": {
    "colab": {
      "provenance": []
    },
    "kernelspec": {
      "display_name": "Python 3",
      "name": "python3"
    },
    "language_info": {
      "name": "python"
    }
  },
  "nbformat": 4,
  "nbformat_minor": 0
}