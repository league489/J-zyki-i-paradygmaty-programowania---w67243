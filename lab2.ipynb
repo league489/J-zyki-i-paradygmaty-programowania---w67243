{
  "nbformat": 4,
  "nbformat_minor": 0,
  "metadata": {
    "colab": {
      "provenance": []
    },
    "kernelspec": {
      "name": "python3",
      "display_name": "Python 3"
    },
    "language_info": {
      "name": "python"
    }
  },
  "cells": [
    {
      "cell_type": "code",
      "execution_count": null,
      "metadata": {
        "colab": {
          "base_uri": "https://localhost:8080/"
        },
        "id": "56dtcZtfcQkB",
        "outputId": "35530c4d-d3ba-4dc5-c395-7e2c9c549904"
      },
      "outputs": [
        {
          "output_type": "stream",
          "name": "stdout",
          "text": [
            "[4, 16, 36, 64]\n",
            "[2, 4, 6, 8, 10, 12, 14, 16, 18]\n",
            "[2, 4, 6, 8]\n",
            "45\n",
            "5\n",
            "Hello world\n",
            "10\n"
          ]
        }
      ],
      "source": [
        "from functools import reduce\n",
        "\n",
        "nums = [1,2,3,4,5,6,7,8,9]\n",
        "NewNums = [x**2 for x in nums if x%2 ==0]\n",
        "print(NewNums)\n",
        "\n",
        "newNumber = list(map(lambda x: x*2,nums))\n",
        "print(newNumber)\n",
        "\n",
        "newNumber2 = list(filter(lambda x: x%2==0,nums))\n",
        "print(newNumber2)\n",
        "\n",
        "newNumber3 = reduce(lambda x, y: x+y,nums)\n",
        "print(newNumber3)\n",
        "\n",
        "a =34\n",
        "b = 12\n",
        "input = \"3+2*1\"\n",
        "output = eval(input)\n",
        "print(output)\n",
        "\n",
        "code = '''\n",
        "def greet(name):\n",
        "  return \"Hello \" + name\n",
        "result = greet(\"world\")\n",
        "'''\n",
        "exec(code)\n",
        "print(result)\n",
        "\n",
        "global_context = {}\n",
        "local_context = {}\n",
        "exec(\"X=10\", global_context, local_context)\n",
        "print(local_context['X'])"
      ]
    },
    {
      "cell_type": "code",
      "source": [
        "#z1\n",
        "import re\n",
        "from collections import Counter\n",
        "tekst_z_wiki = \"\"\"Napalm – substancja stosowana do zagęszczania lekkich paliw ciekłych w celu skuteczniejszego stosowania ich jako bojowych środków zapalających. Tej samej nazwy używa się również w odniesieniu do gotowej zagęszczonej mieszaniny paliwowej.\"\n",
        "\"Napalmy, dzięki swojej konsystencji, mają zwiększoną przyczepność do podpalanych powierzchni, a jednocześnie słabiej rozpryskują się, wolniej ściekają i gorzej wsiąkają. Wszystko to powoduje, że są bardzo trudne do ugaszenia. Skuteczne są nawet na powierzchniach wilgotnych, pionowych oraz mocno wsiąkliwych (jak piasek). Palą się także na powierzchni wody.\"\n",
        "\"Pierwsze wersje napalmów były mieszaninami organicznych soli glinu (np. soli kwasów naftenowego, stearynowego, laurynowego, oleinowego czy palmitynowego; stąd nazwa substancji[1]). Sole te były galaretowatymi substancjami, dodawanymi do benzyn. Z czasem do benzyn zaczęto dodawać benzen, jako substancję zagęszczającą zaczęto stosować polistyreny oraz dodawano środki zwiększające zapalność.\"\n",
        "\"Temperatura spalania pierwszych napalmów to 800–1000 °C, późniejszych nawet 1200 °C. Czasami wydziela się toksyczny dym, podrażniający oczy i układ oddechowy.\"\n",
        "\"Napalm, jako bojowy środek zapalający, został po raz pierwszy użyty przez wojska amerykańskie w II wojnie światowej podczas bitwy o wyspę Tinian[2], dokładnie 22 lipca 1944 r., później podczas wojny domowej w Grecji przeciw partyzantom oraz na masową skalę w Korei i Wietnamie[3][4]. Stosuje się go w miotaczach ognia i bombach lotniczych, rzadziej pociskach artyleryjskich i rakietowych.\"\n",
        "\"Napalmy samozapalające (zawierają najczęściej trietyloglin) charakteryzują się zdolnością do natychmiastowego samozapłonu w zetknięciu z powietrzem.\"\n",
        "\"Przed wynalezieniem napalmu jako mieszaniny zapalające o podobnych cechach fizycznych stosowano mieszaniny benzyny z naftą lub olejami silnikowymi.\"\n",
        "\"Substancją o podobnych właściwościach i składzie do napalmu, ale jeszcze wyższej temperaturze spalania, jest pirożel, który jest mieszaniną wzbogaconą o środki utleniające oraz podwyższające temperaturę spalania.\"\"\"\n",
        "def AnalizaTekstu(tekst):\n",
        "  Akapity = len(list(filter(lambda x: x==\"\\n\",tekst)))\n",
        "  Słowa_D = len(list(filter(lambda x: x==\" \",tekst)))\n",
        "  Słowa = list(tekst.split(\" \"))\n",
        "  Zdania = len(list(filter(lambda x: x==\".\",tekst)))\n",
        "  print(f\"Akapity: {Akapity}\")\n",
        "  print(f\"Zdania: {Zdania}\")\n",
        "  print(f\"Słowa: {Słowa_D}\")\n",
        "  Najczęściej_Występujące_Słowa = [NWS for NWS in Słowa if NWS not in ['a', 'aby', 'ach', 'acz', 'aczkolwiek', 'aj', 'albo', 'ale', 'alez', 'ależ', 'ani', 'az', 'aż', 'bardziej', 'bardzo', 'beda', 'bedzie', 'bez', 'deda', 'będą', 'bede', 'będę', 'będzie', 'bo', 'bowiem', 'by', 'byc', 'być', 'byl', 'byla', 'byli', 'bylo', 'byly', 'był', 'była', 'było', 'były', 'bynajmniej', 'cala', 'cali', 'caly', 'cała', 'cały', 'ci', 'cie', 'ciebie', 'cię', 'co', 'cokolwiek', 'cos', 'coś', 'czasami', 'czasem', 'czemu', 'czy', 'czyli', 'daleko', 'dla', 'dlaczego', 'dlatego', 'do', 'dobrze', 'dokad', 'dokąd', 'dosc', 'dość', 'duzo', 'dużo', 'dwa', 'dwaj', 'dwie', 'dwoje', 'dzis', 'dzisiaj', 'dziś', 'gdy', 'gdyby', 'gdyz', 'gdyż', 'gdzie', 'gdziekolwiek', 'gdzies', 'gdzieś', 'go', 'i', 'ich', 'ile', 'im', 'inna', 'inne', 'inny', 'innych', 'iz', 'iż', 'ja', 'jak', 'jakas', 'jakaś', 'jakby', 'jaki', 'jakichs', 'jakichś', 'jakie', 'jakis', 'jakiś', 'jakiz', 'jakiż', 'jakkolwiek', 'jako', 'jakos', 'jakoś', 'ją', 'je', 'jeden', 'jedna', 'jednak', 'jednakze', 'jednakże', 'jedno', 'jego', 'jej', 'jemu', 'jesli', 'jest', 'jestem', 'jeszcze', 'jeśli', 'jezeli', 'jeżeli', 'juz', 'już', 'kazdy', 'każdy', 'kiedy', 'kilka', 'kims', 'kimś', 'kto', 'ktokolwiek', 'ktora', 'ktore', 'ktorego', 'ktorej', 'ktory', 'ktorych', 'ktorym', 'ktorzy', 'ktos', 'ktoś', 'która', 'które', 'którego', 'której', 'który', 'których', 'którym', 'którzy', 'ku', 'lat', 'lecz', 'lub', 'ma', 'mają', 'mało', 'mam', 'mi', 'miedzy', 'między', 'mimo', 'mna', 'mną', 'mnie', 'moga', 'mogą', 'moi', 'moim', 'moj', 'moja', 'moje', 'moze', 'mozliwe', 'mozna', 'może', 'możliwe', 'można', 'mój', 'mu', 'musi', 'my', 'na', 'nad', 'nam', 'nami', 'nas', 'nasi', 'nasz', 'nasza', 'nasze', 'naszego', 'naszych', 'natomiast', 'natychmiast', 'nawet', 'nia', 'nią', 'nic', 'nich', 'nie', 'niech', 'niego', 'niej', 'niemu', 'nigdy', 'nim', 'nimi', 'niz', 'niż', 'no', 'o', 'obok', 'od', 'około', 'on', 'ona', 'one', 'oni', 'ono', 'oraz', 'oto', 'owszem', 'pan', 'pana', 'pani', 'po', 'pod', 'podczas', 'pomimo', 'ponad', 'poniewaz', 'ponieważ', 'powinien', 'powinna', 'powinni', 'powinno', 'poza', 'prawie', 'przeciez', 'przecież', 'przed', 'przede', 'przedtem', 'przez', 'przy', 'roku', 'rowniez', 'również', 'sam', 'sama', 'są', 'sie', 'się', 'skad', 'skąd', 'soba', 'sobą', 'sobie', 'sposob', 'sposób', 'swoje', 'ta', 'tak', 'taka', 'taki', 'takie', 'takze', 'także', 'tam', 'te', 'tego', 'tej', 'ten', 'teraz', 'też', 'to', 'toba', 'tobą', 'tobie', 'totez', 'toteż', 'totobą', 'trzeba', 'tu', 'tutaj', 'twoi', 'twoim', 'twoj', 'twoja', 'twoje', 'twój', 'twym', 'ty', 'tych', 'tylko', 'tym', 'u', 'w', 'wam', 'wami', 'was', 'wasz', 'wasza', 'wasze', 'we', 'według', 'wiele', 'wielu', 'więc', 'więcej', 'wlasnie', 'właśnie', 'wszyscy', 'wszystkich', 'wszystkie', 'wszystkim', 'wszystko', 'wtedy', 'wy', 'z', 'za', 'zaden', 'zadna', 'zadne', 'zadnych', 'zapewne', 'zawsze', 'ze', 'zeby', 'zeznowu', 'zł', 'znow', 'znowu', 'znów', 'zostal', 'został', 'żaden', 'żadna', 'żadne', 'żadnych', 'że', 'żeby']]\n",
        "  Najczęściej_Występujące_Słowa = Counter(Najczęściej_Występujące_Słowa)\n",
        "  Najczęściej_Występujące_Słowa = Najczęściej_Występujące_Słowa.most_common(3);\n",
        "\n",
        "\n",
        "  print(f\"Najczęściej występujące słowa: {Najczęściej_Występujące_Słowa} \\n\")\n",
        "\n",
        "\n",
        "\n",
        "\n",
        "  def OdwróćTekst(tekst_r):\n",
        "    return tekst_r[::-1]\n",
        "  OdwróconyTekst = list(map(lambda x: OdwróćTekst(x) if x.startswith(\"a\") or x.startswith(\"A\") else x,Słowa))\n",
        "  OdwróconyTekst = \" \".join(OdwróconyTekst)\n",
        "  print(OdwróconyTekst)\n",
        "\n",
        "AnalizaTekstu(tekst_z_wiki)"
      ],
      "metadata": {
        "colab": {
          "base_uri": "https://localhost:8080/"
        },
        "id": "MZySXYnCd0N6",
        "outputId": "fde1a8cb-931a-4899-e942-e5dc55acc5d8"
      },
      "execution_count": null,
      "outputs": [
        {
          "output_type": "stream",
          "name": "stdout",
          "text": [
            "Akapity: 7\n",
            "Zdania: 18\n",
            "Słowa: 253\n",
            "Najczęściej występujące słowo: [('mieszaniny', 3), ('napalmów', 2), ('soli', 2)] \n",
            "\n",
            "Napalm – substancja stosowana do zagęszczania lekkich paliw ciekłych w celu skuteczniejszego stosowania ich jako bojowych środków zapalających. Tej samej nazwy używa się również w odniesieniu do gotowej zagęszczonej mieszaniny paliwowej.\"\n",
            "\"Napalmy, dzięki swojej konsystencji, mają zwiększoną przyczepność do podpalanych powierzchni, a jednocześnie słabiej rozpryskują się, wolniej ściekają i gorzej wsiąkają. Wszystko to powoduje, że są bardzo trudne do ugaszenia. Skuteczne są nawet na powierzchniach wilgotnych, pionowych oraz mocno wsiąkliwych (jak piasek). Palą się także na powierzchni wody.\"\n",
            "\"Pierwsze wersje napalmów były mieszaninami organicznych soli glinu (np. soli kwasów naftenowego, stearynowego, laurynowego, oleinowego czy palmitynowego; stąd nazwa substancji[1]). Sole te były galaretowatymi substancjami, dodawanymi do benzyn. Z czasem do benzyn zaczęto dodawać benzen, jako substancję zagęszczającą zaczęto stosować polistyreny oraz dodawano środki zwiększające zapalność.\"\n",
            "\"Temperatura spalania pierwszych napalmów to 800–1000 °C, późniejszych nawet 1200 °C. Czasami wydziela się toksyczny dym, podrażniający oczy i układ oddechowy.\"\n",
            "\"Napalm, jako bojowy środek zapalający, został po raz pierwszy użyty przez wojska eiksńakyrema w II wojnie światowej podczas bitwy o wyspę Tinian[2], dokładnie 22 lipca 1944 r., później podczas wojny domowej w Grecji przeciw partyzantom oraz na masową skalę w Korei i Wietnamie[3][4]. Stosuje się go w miotaczach ognia i bombach lotniczych, rzadziej pociskach hciksjyrelytra i rakietowych.\"\n",
            "\"Napalmy samozapalające (zawierają najczęściej trietyloglin) charakteryzują się zdolnością do natychmiastowego samozapłonu w zetknięciu z powietrzem.\"\n",
            "\"Przed wynalezieniem napalmu jako mieszaniny zapalające o podobnych cechach fizycznych stosowano mieszaniny benzyny z naftą lub olejami silnikowymi.\"\n",
            "\"Substancją o podobnych właściwościach i składzie do napalmu, ela jeszcze wyższej temperaturze spalania, jest pirożel, który jest mieszaniną wzbogaconą o środki utleniające oraz podwyższające temperaturę spalania.\n"
          ]
        }
      ]
    },
    {
      "cell_type": "code",
      "source": [
        "import numpy as np\n",
        "\n",
        "\n",
        "macierz1 = np.asmatrix(np.array([[2, 8, 6, 0], [5, 7, 8, 1], [9, 9, 7, 2]]))\n",
        "macierz2 = np.asmatrix(np.array([[2, 4], [9, 4], [4, 0], [7, 3]]))\n",
        "macierz3 = np.asmatrix(np.array([[9, 9, 2, 8, 9], [9, 8, 6, 4, 8]]))\n",
        "macierz4 = np.asmatrix(np.array([[0, 5, 7], [9, 3, 6], [7, 7, 8], [3, 0, 4], [3, 0, 7]]))\n",
        "macierz5 = np.asmatrix(np.array([[5, 7], [7, 8], [0, 4], [0, 7]]))\n",
        "\n",
        "macierze = {'macierz1': macierz1, 'macierz2': macierz2, 'macierz3': macierz3, 'macierz4': macierz4, 'macierz5': macierz5}\n",
        "\n",
        "\n",
        "def OperacjeNaMacierzach():\n",
        "    Operacja = input(\"Podaj operację macierzową, którą chcesz wykonać: \")\n",
        "    Operacja = Operacja.replace(' ', '')\n",
        "\n",
        "    if '+' in Operacja:\n",
        "        matrixOp = Operacja.split(\"+\")\n",
        "        if all(nazwa in macierze for nazwa in matrixOp):\n",
        "            if macierze[matrixOp[0]].shape == macierze[matrixOp[1]].shape:\n",
        "                print(\"Macierze mają zgodne wymiary\")\n",
        "                wynik = eval(f\"macierze['{matrixOp[0]}'] + macierze['{matrixOp[1]}']\")\n",
        "                return wynik\n",
        "            else:\n",
        "                return 'Macierze mają niezgodne wymiary'\n",
        "        else:\n",
        "            return 'Jednej lub obu macierzy nie ma w słowniku'\n",
        "    elif '-' in Operacja:\n",
        "        matrixOp = Operacja.split(\"-\")\n",
        "        if all(nazwa in macierze for nazwa in matrixOp):\n",
        "            if macierze[matrixOp[0]].shape == macierze[matrixOp[1]].shape:\n",
        "                print(\"Macierze mają zgodne wymiary\")\n",
        "                wynik = eval(f\"macierze['{matrixOp[0]}'] - macierze['{matrixOp[1]}']\")\n",
        "                return wynik\n",
        "            else:\n",
        "                return 'Macierze mają niezgodne wymiary'\n",
        "        else:\n",
        "            return 'Jednej lub obu macierzy nie ma w słowniku'\n",
        "    elif '*' in Operacja:\n",
        "        matrixOp = Operacja.split(\"*\")\n",
        "        if all(nazwa in macierze for nazwa in matrixOp):\n",
        "            if macierze[matrixOp[0]].shape[1] == macierze[matrixOp[1]].shape[0]:\n",
        "                print(\"Macierze mają zgodne wymiary\")\n",
        "                wynik = eval(f\"macierze['{matrixOp[0]}'] * macierze['{matrixOp[1]}']\")\n",
        "                return wynik\n",
        "            else:\n",
        "                return 'Macierze mają niezgodne wymiary'\n",
        "        else:\n",
        "            return 'Jednej lub obu macierzy nie ma w słowniku'\n",
        "    elif '_T' in Operacja:\n",
        "        matrixOp = Operacja.replace(\"_T\", \"\")\n",
        "        if matrixOp in macierze:\n",
        "            if macierze[matrixOp].shape[0] > 1:\n",
        "                print(\"Macierze mają zgodne wymiary\")\n",
        "                wynik = macierze[matrixOp].transpose()\n",
        "                return wynik\n",
        "            else:\n",
        "                return 'Macierze mają niezgodne wymiary'\n",
        "        else:\n",
        "            return 'Macierz nie istnieje w słowniku'\n",
        "    else:\n",
        "        return 'Zła operacja'\n",
        "\n",
        "print(OperacjeNaMacierzach())\n",
        "\n",
        "\n",
        "\n"
      ],
      "metadata": {
        "colab": {
          "base_uri": "https://localhost:8080/",
          "height": 372
        },
        "id": "tGIhEgo0Opb8",
        "outputId": "f6a80730-596b-488c-a2e3-485693d68afc"
      },
      "execution_count": 12,
      "outputs": [
        {
          "output_type": "error",
          "ename": "KeyboardInterrupt",
          "evalue": "Interrupted by user",
          "traceback": [
            "\u001b[0;31m---------------------------------------------------------------------------\u001b[0m",
            "\u001b[0;31mKeyboardInterrupt\u001b[0m                         Traceback (most recent call last)",
            "\u001b[0;32m<ipython-input-12-59f85b715ce5>\u001b[0m in \u001b[0;36m<cell line: 64>\u001b[0;34m()\u001b[0m\n\u001b[1;32m     62\u001b[0m         \u001b[0;32mreturn\u001b[0m \u001b[0;34m'Zła operacja'\u001b[0m\u001b[0;34m\u001b[0m\u001b[0;34m\u001b[0m\u001b[0m\n\u001b[1;32m     63\u001b[0m \u001b[0;34m\u001b[0m\u001b[0m\n\u001b[0;32m---> 64\u001b[0;31m \u001b[0mprint\u001b[0m\u001b[0;34m(\u001b[0m\u001b[0mOperacjeNaMacierzach\u001b[0m\u001b[0;34m(\u001b[0m\u001b[0;34m)\u001b[0m\u001b[0;34m)\u001b[0m\u001b[0;34m\u001b[0m\u001b[0;34m\u001b[0m\u001b[0m\n\u001b[0m\u001b[1;32m     65\u001b[0m \u001b[0;34m\u001b[0m\u001b[0m\n\u001b[1;32m     66\u001b[0m \u001b[0;34m\u001b[0m\u001b[0m\n",
            "\u001b[0;32m<ipython-input-12-59f85b715ce5>\u001b[0m in \u001b[0;36mOperacjeNaMacierzach\u001b[0;34m()\u001b[0m\n\u001b[1;32m     12\u001b[0m \u001b[0;34m\u001b[0m\u001b[0m\n\u001b[1;32m     13\u001b[0m \u001b[0;32mdef\u001b[0m \u001b[0mOperacjeNaMacierzach\u001b[0m\u001b[0;34m(\u001b[0m\u001b[0;34m)\u001b[0m\u001b[0;34m:\u001b[0m\u001b[0;34m\u001b[0m\u001b[0;34m\u001b[0m\u001b[0m\n\u001b[0;32m---> 14\u001b[0;31m     \u001b[0mOperacja\u001b[0m \u001b[0;34m=\u001b[0m \u001b[0minput\u001b[0m\u001b[0;34m(\u001b[0m\u001b[0;34m\"Podaj operację macierzową, którą chcesz wykonać: \"\u001b[0m\u001b[0;34m)\u001b[0m\u001b[0;34m\u001b[0m\u001b[0;34m\u001b[0m\u001b[0m\n\u001b[0m\u001b[1;32m     15\u001b[0m     \u001b[0mOperacja\u001b[0m \u001b[0;34m=\u001b[0m \u001b[0mOperacja\u001b[0m\u001b[0;34m.\u001b[0m\u001b[0mreplace\u001b[0m\u001b[0;34m(\u001b[0m\u001b[0;34m' '\u001b[0m\u001b[0;34m,\u001b[0m \u001b[0;34m''\u001b[0m\u001b[0;34m)\u001b[0m\u001b[0;34m\u001b[0m\u001b[0;34m\u001b[0m\u001b[0m\n\u001b[1;32m     16\u001b[0m \u001b[0;34m\u001b[0m\u001b[0m\n",
            "\u001b[0;32m/usr/local/lib/python3.10/dist-packages/ipykernel/kernelbase.py\u001b[0m in \u001b[0;36mraw_input\u001b[0;34m(self, prompt)\u001b[0m\n\u001b[1;32m    849\u001b[0m                 \u001b[0;34m\"raw_input was called, but this frontend does not support input requests.\"\u001b[0m\u001b[0;34m\u001b[0m\u001b[0;34m\u001b[0m\u001b[0m\n\u001b[1;32m    850\u001b[0m             )\n\u001b[0;32m--> 851\u001b[0;31m         return self._input_request(str(prompt),\n\u001b[0m\u001b[1;32m    852\u001b[0m             \u001b[0mself\u001b[0m\u001b[0;34m.\u001b[0m\u001b[0m_parent_ident\u001b[0m\u001b[0;34m,\u001b[0m\u001b[0;34m\u001b[0m\u001b[0;34m\u001b[0m\u001b[0m\n\u001b[1;32m    853\u001b[0m             \u001b[0mself\u001b[0m\u001b[0;34m.\u001b[0m\u001b[0m_parent_header\u001b[0m\u001b[0;34m,\u001b[0m\u001b[0;34m\u001b[0m\u001b[0;34m\u001b[0m\u001b[0m\n",
            "\u001b[0;32m/usr/local/lib/python3.10/dist-packages/ipykernel/kernelbase.py\u001b[0m in \u001b[0;36m_input_request\u001b[0;34m(self, prompt, ident, parent, password)\u001b[0m\n\u001b[1;32m    893\u001b[0m             \u001b[0;32mexcept\u001b[0m \u001b[0mKeyboardInterrupt\u001b[0m\u001b[0;34m:\u001b[0m\u001b[0;34m\u001b[0m\u001b[0;34m\u001b[0m\u001b[0m\n\u001b[1;32m    894\u001b[0m                 \u001b[0;31m# re-raise KeyboardInterrupt, to truncate traceback\u001b[0m\u001b[0;34m\u001b[0m\u001b[0;34m\u001b[0m\u001b[0m\n\u001b[0;32m--> 895\u001b[0;31m                 \u001b[0;32mraise\u001b[0m \u001b[0mKeyboardInterrupt\u001b[0m\u001b[0;34m(\u001b[0m\u001b[0;34m\"Interrupted by user\"\u001b[0m\u001b[0;34m)\u001b[0m \u001b[0;32mfrom\u001b[0m \u001b[0;32mNone\u001b[0m\u001b[0;34m\u001b[0m\u001b[0;34m\u001b[0m\u001b[0m\n\u001b[0m\u001b[1;32m    896\u001b[0m             \u001b[0;32mexcept\u001b[0m \u001b[0mException\u001b[0m \u001b[0;32mas\u001b[0m \u001b[0me\u001b[0m\u001b[0;34m:\u001b[0m\u001b[0;34m\u001b[0m\u001b[0;34m\u001b[0m\u001b[0m\n\u001b[1;32m    897\u001b[0m                 \u001b[0mself\u001b[0m\u001b[0;34m.\u001b[0m\u001b[0mlog\u001b[0m\u001b[0;34m.\u001b[0m\u001b[0mwarning\u001b[0m\u001b[0;34m(\u001b[0m\u001b[0;34m\"Invalid Message:\"\u001b[0m\u001b[0;34m,\u001b[0m \u001b[0mexc_info\u001b[0m\u001b[0;34m=\u001b[0m\u001b[0;32mTrue\u001b[0m\u001b[0;34m)\u001b[0m\u001b[0;34m\u001b[0m\u001b[0;34m\u001b[0m\u001b[0m\n",
            "\u001b[0;31mKeyboardInterrupt\u001b[0m: Interrupted by user"
          ]
        }
      ]
    },
    {
      "cell_type": "code",
      "source": [
        "#z3\n",
        "niejednorodna_lista = [ 42,  \"example\",  (1, 2, 3), [4, 5, 6], {10: \"Języki i paradygmaty programowania\"}, 46.30, \"python\", (3.14, \"pi\"), [7, 8, 9,4], {\"chemia\": \"cyklopentanoperhydrofenantren\"} ]\n",
        "def DynamiczneWyznaczanieEkstremów (lista_n):\n",
        "  krotki = list(filter(lambda x: type(x)==tuple,lista_n))\n",
        "  NajdłuższaKrotka = [[x for x in krotki if len(x)== max(list(map(lambda x: len(x),krotki)))]]\n",
        "  NajdłuższaKrotka = NajdłuższaKrotka[0][0]\n",
        "  print(f\"Najdłuższa krotka: {NajdłuższaKrotka}\")\n",
        "  f = list(filter(lambda x: type(x)in [tuple,int,float,dict,list],lista_n))\n",
        "  numerki = []\n",
        "  for x in f:\n",
        "    if type(x)== int:\n",
        "      numerki.append(x)\n",
        "    if type(x)== float:\n",
        "      numerki.append(x)\n",
        "    if type(x) == tuple or type(x) == list :\n",
        "      for i in x:\n",
        "        if(type(i) in [float,int]):\n",
        "          numerki.append(i)\n",
        "    if type(x) == dict:\n",
        "      numerki.append(list(x.keys())[0])\n",
        "      numerki.append(list(x.values())[0])\n",
        "  numerki = max(list(filter(lambda x: type(x) in [int,float],numerki)))\n",
        "  print(f\"Największa wartość numeryczna: {numerki}\")\n",
        "  f = list(filter(lambda x: type(x)in [tuple,dict,list,str],lista_n))\n",
        "  napisy = []\n",
        "  for x in f:\n",
        "    if type(x) == tuple or type(x) == list :\n",
        "      for i in x:\n",
        "        if(type(i)== str):\n",
        "          napisy.append(i)\n",
        "    if type(x) == dict:\n",
        "      napisy.append(list(x.keys())[0])\n",
        "      napisy.append(list(x.values())[0])\n",
        "  napisy = list(filter(lambda x: type(x) == str ,napisy))\n",
        "  max_długość = max(list(map(lambda x: len(x),napisy)))\n",
        "  napisy = list(filter(lambda x: len(x) == max_długość,napisy))[0]\n",
        "  print(f\"Najdłuższy napis: {napisy}\")\n",
        "\n",
        "DynamiczneWyznaczanieEkstremów(niejednorodna_lista)\n",
        "\n",
        "\n",
        "\n",
        "\n",
        "\n"
      ],
      "metadata": {
        "colab": {
          "base_uri": "https://localhost:8080/"
        },
        "id": "H5OAsDm6emBG",
        "outputId": "bb093c23-ec6b-4a84-8e31-e6f734f6e095"
      },
      "execution_count": 55,
      "outputs": [
        {
          "output_type": "stream",
          "name": "stdout",
          "text": [
            "Najdłuższa krotka: (1, 2, 3)\n",
            "Największa wartość numeryczna: 46.3\n",
            "Najdłuższy napis: Języki i paradygmaty programowania\n"
          ]
        }
      ]
    },
    {
      "cell_type": "code",
      "source": [
        "#z4\n",
        "import numpy as np\n",
        "from functools import reduce\n",
        "\n",
        "macierz1 = np.asmatrix(np.array([[9, 9],[ 6, 0]]))\n",
        "macierz2 = np.asmatrix(np.array([[2, 4], [9, 4]]))\n",
        "macierz3 = np.asmatrix(np.array([[9, 9],[2, 8]]))\n",
        "macierz4 = np.asmatrix(np.array([[5, 7], [3, 6]]))\n",
        "macierz5 = np.asmatrix(np.array([[7, 8], [0, 4]]))\n",
        "\n",
        "macierze = [macierz1,macierz2,macierz3,macierz4,macierz5]\n",
        "\n",
        "\n",
        "def sumowanie(a, b):\n",
        "    return np.add(a, b)\n",
        "\n",
        "def odejmowanie(a,b):\n",
        "    return np.subtract(a,b)\n",
        "\n",
        "def mnożenie(a, b):\n",
        "    return np.matmul(a, b)\n",
        "\n",
        "def wykonaj_operacje(macierze, operacja):\n",
        "    return reduce(operacja, macierze)\n",
        "\n",
        "\n",
        "def dynamiczna_definicja_operacji(operacja_str):\n",
        "    local_vars = {}\n",
        "    try:\n",
        "        # Tworzenie funkcji z stringa przy użyciu exec() w lokalnym kontekście\n",
        "        exec(operacja_str, {}, local_vars)\n",
        "        return local_vars['niestandardowa_operacja']\n",
        "    except Exception as e:\n",
        "        print(\"Błąd w definicji operacji:\", e)\n",
        "        return None\n",
        "\n",
        "\n",
        "operacja_wybor = input(\"Wybierz operację: sumowanie, mnozenie, niestandardowa: \")\n",
        "\n",
        "if operacja_wybor == 'sumowanie':\n",
        "    operacja = sumowanie\n",
        "elif operacja_wybor == 'odejmowanie':\n",
        "    operacja = odejmowanie\n",
        "elif operacja_wybor == 'mnożenie':\n",
        "    operacja = mnożenie\n",
        "elif operacja_wybor == 'niestandardowa':\n",
        "    operacja_str = input(\"Podaj definicję operacji (np. 'def niestandardowa_operacja(a, b): return b -a'): \")\n",
        "    operacja = dynamiczna_definicja_operacji(operacja_str)\n",
        "else:\n",
        "    print(\"Nieznana operacja\")\n",
        "    operacja = None\n",
        "\n",
        "if operacja:\n",
        "    wynik = wykonaj_operacje(macierze, operacja)\n",
        "    print(\"Wynik operacji:\", wynik)\n"
      ],
      "metadata": {
        "colab": {
          "base_uri": "https://localhost:8080/"
        },
        "id": "SRWkvz0ZR-fX",
        "outputId": "0594375f-52b7-4f53-ec98-53ebe9eb882b"
      },
      "execution_count": 90,
      "outputs": [
        {
          "output_type": "stream",
          "name": "stdout",
          "text": [
            "Wybierz operację: sumowanie, mnozenie, niestandardowa: niestandardowa\n",
            "Podaj definicję operacji (np. 'def niestandardowa_operacja(a, b): return b -a'): def niestandardowa_operacja(a, b): return b*a\n",
            "Wynik operacji: [[167685 118917]\n",
            " [ 38052  27108]]\n"
          ]
        }
      ]
    },
    {
      "cell_type": "code",
      "source": [
        "#z5\n",
        "def generuj_i_uruchom_kod(szablon, dane):\n",
        "    kod = szablon.format(**dane)\n",
        "    try:\n",
        "        kod_kompilacja = compile(kod, '<string>', 'exec')\n",
        "    except SyntaxError as e:\n",
        "        print(\"Błąd składniowy w wygenerowanym kodzie:\", e)\n",
        "        return\n",
        "    try:\n",
        "        exec(kod_kompilacja, globals())\n",
        "    except Exception as e:\n",
        "        print(\"Błąd podczas wykonywania kodu:\", e)\n",
        "\n",
        "szablon = \"\"\"\n",
        "def funkcja(x):\n",
        "    return (x + {y})/{z}\n",
        "\n",
        "print(funkcja(5))\n",
        "\"\"\"\n",
        "\n",
        "# Dane wejściowe do uzupełnienia szablonu\n",
        "dane = {\n",
        "    'y': 3,\n",
        "    'z':2\n",
        "}\n",
        "\n",
        "generuj_i_uruchom_kod(szablon, dane)\n"
      ],
      "metadata": {
        "colab": {
          "base_uri": "https://localhost:8080/"
        },
        "id": "Sdym3PDobfi1",
        "outputId": "114baeed-1b3e-4b38-ebdb-023188b9ba24"
      },
      "execution_count": 57,
      "outputs": [
        {
          "output_type": "stream",
          "name": "stdout",
          "text": [
            "4.0\n"
          ]
        }
      ]
    }
  ]
}