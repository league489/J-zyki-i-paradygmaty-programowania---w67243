{
  "nbformat": 4,
  "nbformat_minor": 0,
  "metadata": {
    "colab": {
      "provenance": []
    },
    "kernelspec": {
      "name": "python3",
      "display_name": "Python 3"
    },
    "language_info": {
      "name": "python"
    }
  },
  "cells": [
    {
      "cell_type": "code",
      "execution_count": null,
      "metadata": {
        "colab": {
          "base_uri": "https://localhost:8080/"
        },
        "id": "d1NLPeANYXbd",
        "outputId": "7b089aca-e93e-4711-94f1-9bc04dbda728"
      },
      "outputs": [
        {
          "output_type": "stream",
          "name": "stdout",
          "text": [
            "(3, [[20, 5], [15, 10], [10, 8, 7]])\n"
          ]
        }
      ],
      "source": [
        "#z1\n",
        "#podział paczek\n",
        "def PodzielPaczki(wagi, max_waga):\n",
        "    for waga in wagi:\n",
        "        if waga > max_waga:\n",
        "            raise ValueError(f\"Paczka o wadze {waga} przekracza maksymalną wagę tj. {max_waga} kg\")\n",
        "    wagi_sorted = sorted(wagi, reverse=True)\n",
        "\n",
        "    kursy = [[]]  # Utworzenie pierwszego kursu\n",
        "    for waga in wagi_sorted:\n",
        "        dodano = False\n",
        "        for kurs in kursy:\n",
        "            if sum(kurs) + waga <= max_waga:\n",
        "                kurs.append(waga)\n",
        "                dodano = True\n",
        "                break\n",
        "        if not dodano:\n",
        "            kursy.append([waga])\n",
        "    return len(kursy), kursy\n",
        "\n",
        "wagi = [10, 15, 7, 20, 5, 8, 10]\n",
        "max_waga = 25\n",
        "print(PodzielPaczki(wagi, max_waga))\n"
      ]
    },
    {
      "cell_type": "code",
      "source": [
        "#z2\n",
        "from collections import deque\n",
        "def bfs_Task(graph,start,end):\n",
        "  queue = deque([[start]])\n",
        "  visited = set()# wierzchołki odwiedzone\n",
        "  while queue:\n",
        "    path = queue.popleft()\n",
        "    node = path[-1]\n",
        "    if node == end:\n",
        "      return path\n",
        "    if node not in visited:\n",
        "      visited.add(node)\n",
        "      for neighbour in graph.get(node,[]):\n",
        "        new_path = list(path)\n",
        "        new_path.append(neighbour)\n",
        "        queue.append(new_path)\n",
        "\n",
        "  return None\n",
        "\n",
        "graph = {'A':['B','C']}\n",
        "bfs_Task(graph,'A','C')"
      ],
      "metadata": {
        "colab": {
          "base_uri": "https://localhost:8080/"
        },
        "id": "O6_v9cyFfdO3",
        "outputId": "eb89ea2e-c5cd-4365-d8d5-7f4309c122dc"
      },
      "execution_count": null,
      "outputs": [
        {
          "output_type": "execute_result",
          "data": {
            "text/plain": [
              "['A', 'C']"
            ]
          },
          "metadata": {},
          "execution_count": 18
        }
      ]
    },
    {
      "cell_type": "code",
      "source": [
        "#z3\n",
        "def ZoptymalizujGrafikProceduralnie(tasks):\n",
        "  for task in tasks:\n",
        "    reward_time_ratio = task[2] / task[1]\n",
        "    task.append(reward_time_ratio)\n",
        "  for x in range(len(tasks)):\n",
        "    for y in range(len(tasks)):\n",
        "      if tasks[x][3] > tasks[y][3]:\n",
        "        temp = tasks[x]\n",
        "        tasks[x] = tasks[y]\n",
        "        tasks[y] = temp\n",
        "  optimal_time_for_tasks = 0\n",
        "  for task in tasks:\n",
        "    optimal_time_for_tasks += task[1]\n",
        "  print(f\"Optymalnie ułożone zadania (według stosunku czasu do nagrody) \\n {tasks}\")\n",
        "  print(f\"Łączny czas wykonania zadań: {optimal_time_for_tasks}\")\n",
        "\n",
        "taski = [[\"Gotowanie\",7,10],[\"Pranie\",10,10],[\"Piwo\",5,20]]\n",
        "#ZoptymalizujGrafikProceduralnie(taski)\n",
        "\n",
        "def ZoptymalizujGrafikFunkcyjnie(tasks):\n",
        "  def reward_time_ratio(task):\n",
        "    return task[2] / task[1]\n",
        "  tasks.sort(key=reward_time_ratio, reverse=True)\n",
        "  optimal_time_for_tasks = sum(task[1] for task in tasks)\n",
        "  print(f\"Optymalnie ułożone zadania (według stosunku czasu do nagrody) \\n {tasks}\")\n",
        "  print(f\"Łączny czas wykonania zadań: {optimal_time_for_tasks}\")\n",
        "#ZoptymalizujGrafikFunkcyjnie(taski)\n",
        "\n",
        "\n",
        "\n",
        "\n",
        "\n",
        "\n"
      ],
      "metadata": {
        "id": "tefdUpTdpTf1",
        "colab": {
          "base_uri": "https://localhost:8080/"
        },
        "outputId": "3ca4112b-1456-4162-e306-920b36cbf770"
      },
      "execution_count": null,
      "outputs": [
        {
          "output_type": "stream",
          "name": "stdout",
          "text": [
            "Optymalnie ułożone zadania (według stosunku czasu do nagrody) \n",
            " [['Piwo', 5, 20], ['Gotowanie', 7, 10], ['Pranie', 10, 10]]\n",
            "Łączny czas wykonania zadań: 22\n"
          ]
        }
      ]
    },
    {
      "cell_type": "markdown",
      "source": [],
      "metadata": {
        "id": "mYOzzXaU7Kpo"
      }
    },
    {
      "cell_type": "code",
      "source": [
        "#z4\n",
        "\n",
        "\n",
        "def PlecakProceduralnie(capacity, items):\n",
        "    najlepsza_wartosc = 0\n",
        "    najlepszy_wariant = []\n",
        "\n",
        "    items.sort(key=lambda x: x[2] / x[1], reverse=True)\n",
        "\n",
        "    for i in range(len(items)):\n",
        "        aktualna_wartosc = 0\n",
        "        aktualna_pojemnosc = capacity\n",
        "        wariant = []\n",
        "\n",
        "        for j in range(i, len(items)):\n",
        "            if items[j][1] <= aktualna_pojemnosc:\n",
        "                wariant.append(items[j])\n",
        "                aktualna_pojemnosc -= items[j][1]\n",
        "                aktualna_wartosc += items[j][2]\n",
        "\n",
        "        if aktualna_wartosc > najlepsza_wartosc:\n",
        "            najlepsza_wartosc = aktualna_wartosc\n",
        "            najlepszy_wariant = wariant\n",
        "\n",
        "    return najlepszy_wariant, najlepsza_wartosc\n",
        "\n",
        "fanty = [[\"coś1\", 5, 6], [\"coś2\", 10, 10], [\"coś3\", 4, 3], [\"coś4\", 1, 4], [\"coś5\", 6, 1]]\n",
        "najlepszy_wariant, najlepsza_wartosc = PlecakProceduralnie(8, fanty)\n",
        "print(f\"Najlepszy wariant: {najlepszy_wariant}\")\n",
        "print(f\"Najlepsza wartość: {najlepsza_wartosc}\")\n"
      ],
      "metadata": {
        "colab": {
          "base_uri": "https://localhost:8080/"
        },
        "id": "y3j_Zlx2L1E0",
        "outputId": "f240f6f4-8965-4749-b2b2-cbcd5aa9ef94"
      },
      "execution_count": null,
      "outputs": [
        {
          "output_type": "stream",
          "name": "stdout",
          "text": [
            "Najlepszy wariant: [['coś4', 1, 4], ['coś1', 5, 6]]\n",
            "Najlepsza wartość: 10\n"
          ]
        }
      ]
    },
    {
      "cell_type": "code",
      "source": [
        "#z4\n",
        "def PlecakFunkcyjnie(wagi, wartosci, pojemnosc):\n",
        "    n = len(wagi)\n",
        "\n",
        "    dp = [[0 for _ in range(pojemnosc + 1)] for _ in range(n + 1)]\n",
        "    wybrane = [[False for _ in range(pojemnosc + 1)] for _ in range(n + 1)]\n",
        "\n",
        "\n",
        "    for i in range(1, n + 1):\n",
        "        for w in range(1, pojemnosc + 1):\n",
        "            if wagi[i - 1] <= w:\n",
        "                if dp[i - 1][w] < dp[i - 1][w - wagi[i - 1]] + wartosci[i - 1]:\n",
        "                    dp[i][w] = dp[i - 1][w - wagi[i - 1]] + wartosci[i - 1]\n",
        "                    wybrane[i][w] = True\n",
        "                else:\n",
        "                    dp[i][w] = dp[i - 1][w]\n",
        "            else:\n",
        "                dp[i][w] = dp[i - 1][w]\n",
        "\n",
        "    maks_wartosc = dp[n][pojemnosc]\n",
        "\n",
        "    w = pojemnosc\n",
        "    wybrane_przedmioty = []\n",
        "    for i in range(n, 0, -1):\n",
        "        if wybrane[i][w]:\n",
        "            wybrane_przedmioty.append(i - 1)\n",
        "            w -= wagi[i - 1]\n",
        "\n",
        "    return maks_wartosc, wybrane_przedmioty\n",
        "\n",
        "\n",
        "przedmioty = [\"coś1\", \"coś2\", \"coś3\", \"coś4\", \"coś5\"]\n",
        "wagi = [5, 10, 4, 1, 6]\n",
        "wartosci = [6, 10, 3, 4, 1]\n",
        "pojemnosc = 8\n",
        "maks_wartosc, wybrane_przedmioty = PlecakFunkcyjnie(wagi, wartosci, pojemnosc)\n",
        "print(\"Maksymalna wartość, którą można zmieścić w plecaku:\", maks_wartosc)\n",
        "print(\"Wybrane przedmioty:\", [przedmioty[i] for i in wybrane_przedmioty])\n"
      ],
      "metadata": {
        "id": "mRxNAHi9HZPz",
        "colab": {
          "base_uri": "https://localhost:8080/"
        },
        "outputId": "8ff16cd2-b398-447b-e14f-b10727dfb4a1"
      },
      "execution_count": null,
      "outputs": [
        {
          "output_type": "stream",
          "name": "stdout",
          "text": [
            "Maksymalna wartość, którą można zmieścić w plecaku: 10\n",
            "Wybrane przedmioty: ['coś4', 'coś1']\n"
          ]
        }
      ]
    },
    {
      "cell_type": "code",
      "source": [
        "#z5\n",
        "from functools import reduce\n",
        "def HarmonogramProceduralnie(zadania):\n",
        "  zadania.sort(key = lambda x: x[2])\n",
        "  zadania_wykonane = []\n",
        "  zadania_wykonane.append(zadania[0])\n",
        "  for z in range(1,len(zadania)):\n",
        "    if zadania[z][1] >= zadania_wykonane[-1][2]:\n",
        "      zadania_wykonane.append(zadania[z])\n",
        "  suma = 0\n",
        "  for s in range(len(zadania_wykonane)):\n",
        "    suma += zadania_wykonane[s][2]\n",
        "  print(f\"Zadania wykonane: {zadania_wykonane}\")\n",
        "  print(f\"Nagroda za wykonanie zadań: {suma}\")\n",
        "\n",
        "\n",
        "zadania = [[\"A\",1,4],[\"B\",3,5],[\"C\",0,6],[\"D\",5,7],[\"E\",8,9]]\n",
        "HarmonogramProceduralnie(zadania)\n",
        "\n",
        "# def HarmonogramFunkcyjnie(zadania):\n",
        "#   zadania.sort(key = lambda x: x[2])\n",
        "#   zadania_wykonane = []\n",
        "#   zadania_wykonane.append(zadania[0])\n",
        "#   zadania_wykonane = zadania_wykonane + list(filter(lambda x: x[1] >= zadania_wykonane[-1][2],zadania))\n",
        "#   suma = reduce(lambda x,y: x+y[2],zadania_wykonane,0)\n",
        "#   print(f\"Zadania wykonane: {zadania_wykonane}\")\n",
        "#   print(f\"Nagroda za wykonanie zadań: {suma}\")\n",
        "\n",
        "\n",
        "# HarmonogramFunkcyjnie(zadania)"
      ],
      "metadata": {
        "colab": {
          "base_uri": "https://localhost:8080/"
        },
        "id": "IV0ZVCQmbHgi",
        "outputId": "59d4f691-924a-48ae-86b9-aca566000fa1"
      },
      "execution_count": 12,
      "outputs": [
        {
          "output_type": "stream",
          "name": "stdout",
          "text": [
            "Zadania wykonane: [['A', 1, 4], ['D', 5, 7], ['E', 8, 9]]\n",
            "Nagroda za wykonanie zadań: 20\n"
          ]
        }
      ]
    }
  ]
}